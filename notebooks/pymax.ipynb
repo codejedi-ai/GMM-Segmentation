{
 "cells": [
  {
   "cell_type": "code",
   "execution_count": null,
   "metadata": {},
   "outputs": [],
   "source": [
    "import maxflow\n",
    "\n",
    "# Create a graph with integer capacities, with 2 non-terminal nodes and 2 non-terminal edges.\n",
    "# Note that these numbers are just indicative (read below)\n",
    "g = maxflow.Graph[float]()\n",
    "# Add two (non-terminal) nodes. Get the index to the first one.\n",
    "nodes = g.add_nodes(2)\n",
    "# Create the non-terminal edges (forwards and backwards) with the given capacities between nodes 0 and 1.\n",
    "g.add_edge(nodes[0], nodes[1], 1, 2)\n",
    "# Set the capacities of the terminal edges...\n",
    "# ...for the first node\n",
    "g.add_tedge(nodes[0], 2, 5)\n",
    "# ...for the second node\n",
    "g.add_tedge(nodes[1], 9, 4)"
   ]
  },
  {
   "cell_type": "code",
   "execution_count": null,
   "metadata": {},
   "outputs": [],
   "source": [
    "flow = g.maxflow()\n",
    "print(f\"Maximum flow: {flow}\")\n",
    "print(f\"Segment of the node 0: {g.get_segment(nodes[0])}\")\n",
    "print(f\"Segment of the node 1: {g.get_segment(nodes[1])}\")"
   ]
  }
 ],
 "metadata": {
  "anaconda-cloud": {},
  "kernelspec": {
   "display_name": "Python 3 (ipykernel)",
   "language": "python",
   "name": "python3"
  },
  "language_info": {
   "codemirror_mode": {
    "name": "ipython",
    "version": 3
   },
   "file_extension": ".py",
   "mimetype": "text/x-python",
   "name": "python",
   "nbconvert_exporter": "python",
   "pygments_lexer": "ipython3",
   "version": "3.8.15"
  }
 },
 "nbformat": 4,
 "nbformat_minor": 1
}
